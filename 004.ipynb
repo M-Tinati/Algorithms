{
 "cells": [
  {
   "cell_type": "code",
   "execution_count": null,
   "id": "afdc51c3",
   "metadata": {},
   "outputs": [],
   "source": [
    "Complete the function which takes two arguments and returns all numbers which are divisible by the given divisor. First argument is an array of numbers and the second is the divisor.\n",
    "\n",
    "Example(Input1, Input2 --> Output)\n",
    "[1, 2, 3, 4, 5, 6], 2 --> [2, 4, 6]\n",
    "\n",
    "https://www.codewars.com/kata/55edaba99da3a9c84000003b/train/python"
   ]
  },
  {
   "cell_type": "code",
   "execution_count": 16,
   "id": "e4032425",
   "metadata": {},
   "outputs": [],
   "source": [
    "def divisible_by(numbers, divisor):\n",
    "    result = []\n",
    "    for num in numbers:\n",
    "        if num % divisor == 0:\n",
    "            result.append(num)\n",
    "    return result\n"
   ]
  }
 ],
 "metadata": {
  "kernelspec": {
   "display_name": "Python 3",
   "language": "python",
   "name": "python3"
  },
  "language_info": {
   "codemirror_mode": {
    "name": "ipython",
    "version": 3
   },
   "file_extension": ".py",
   "mimetype": "text/x-python",
   "name": "python",
   "nbconvert_exporter": "python",
   "pygments_lexer": "ipython3",
   "version": "3.13.1"
  }
 },
 "nbformat": 4,
 "nbformat_minor": 5
}
