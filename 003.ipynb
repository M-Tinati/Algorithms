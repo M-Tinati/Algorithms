{
 "cells": [
  {
   "cell_type": "code",
   "execution_count": null,
   "id": "06c2db6c",
   "metadata": {},
   "outputs": [],
   "source": [
    "Character recognition software is widely used to digitise printed texts. Thus the texts can be edited, searched and stored on a computer.\n",
    "\n",
    "When documents (especially pretty old ones written with a typewriter), are digitised character recognition softwares often make mistakes.\n",
    "\n",
    "Your task is correct the errors in the digitised text. You only have to handle the following mistakes:\n",
    "\n",
    "S is misinterpreted as 5\n",
    "O is misinterpreted as 0\n",
    "I is misinterpreted as 1\n",
    "The test cases contain numbers only by mistake.\n",
    "\n",
    "https://www.codewars.com/kata/577bd026df78c19bca0002c0/train/python"
   ]
  },
  {
   "cell_type": "code",
   "execution_count": 1,
   "id": "b91df112",
   "metadata": {},
   "outputs": [],
   "source": [
    "def correct(s):\n",
    "    return s.replace('5', 'S').replace('0', 'O').replace('1', 'I')"
   ]
  }
 ],
 "metadata": {
  "kernelspec": {
   "display_name": "Python 3",
   "language": "python",
   "name": "python3"
  },
  "language_info": {
   "codemirror_mode": {
    "name": "ipython",
    "version": 3
   },
   "file_extension": ".py",
   "mimetype": "text/x-python",
   "name": "python",
   "nbconvert_exporter": "python",
   "pygments_lexer": "ipython3",
   "version": "3.13.1"
  }
 },
 "nbformat": 4,
 "nbformat_minor": 5
}
