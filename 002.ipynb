{
 "cells": [
  {
   "cell_type": "code",
   "execution_count": null,
   "id": "bdfcc0a5",
   "metadata": {},
   "outputs": [],
   "source": [
    "Digital root is the recursive sum of all the digits in a number.\n",
    "\n",
    "Given n, take the sum of the digits of n. If that value has more than one digit, continue reducing in this way until a single-digit number is produced. The input will be a non-negative integer.\n",
    "\n",
    "Examples\n",
    "    16  -->  1 + 6 = 7\n",
    "   942  -->  9 + 4 + 2 = 15  -->  1 + 5 = 6\n",
    "132189  -->  1 + 3 + 2 + 1 + 8 + 9 = 24  -->  2 + 4 = 6\n",
    "493193  -->  4 + 9 + 3 + 1 + 9 + 3 = 29  -->  2 + 9 = 11  -->  1 + 1 = 2\n",
    "\n",
    "https://www.codewars.com/kata/541c8630095125aba6000c00/train/python"
   ]
  },
  {
   "cell_type": "code",
   "execution_count": 131,
   "id": "aed2c6ab",
   "metadata": {},
   "outputs": [],
   "source": [
    "def digital_root(n):\n",
    "    return 0 if n == 0 else 1 + (n - 1) % 9\n"
   ]
  }
 ],
 "metadata": {
  "kernelspec": {
   "display_name": "Python 3",
   "language": "python",
   "name": "python3"
  },
  "language_info": {
   "codemirror_mode": {
    "name": "ipython",
    "version": 3
   },
   "file_extension": ".py",
   "mimetype": "text/x-python",
   "name": "python",
   "nbconvert_exporter": "python",
   "pygments_lexer": "ipython3",
   "version": "3.13.1"
  }
 },
 "nbformat": 4,
 "nbformat_minor": 5
}
