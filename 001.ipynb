{
 "cells": [
  {
   "cell_type": "code",
   "execution_count": null,
   "id": "f9690e13",
   "metadata": {},
   "outputs": [],
   "source": [
    "In this kata you must take an input string, reverse the order of the words, and reverse the order of the letters within the words.\n",
    "But, as a bonus, every test input will end with a punctuation mark (! ? .) and the output should be returned with the mark at the end.\n",
    "A few examples should help clarify:\n",
    "esrever(\"hello world.\") == \"dlrow olleh.\"\n",
    "esrever(\"Much l33t?\") == \"t33l hcuM?\"\n",
    "esrever(\"tacocat!\") == \"tacocat!\"\n",
    "Quick Note: A string will always be passed in (though it may be empty) so no need for error-checking other types.\n",
    "\n",
    "\n",
    "https://www.codewars.com/kata/57e0206335e198f82b00001d"
   ]
  },
  {
   "cell_type": "code",
   "execution_count": 212,
   "id": "adffb300",
   "metadata": {},
   "outputs": [
    {
     "data": {
      "text/plain": [
       "'$ 000,000,1 FO naOl llams a!'"
      ]
     },
     "execution_count": 212,
     "metadata": {},
     "output_type": "execute_result"
    }
   ],
   "source": [
    "def esrever(s):\n",
    "    return s[:-1][::-1] + s[-1] if s else ''\n",
    "esrever('a small lOan OF 1,000,000 $!')"
   ]
  }
 ],
 "metadata": {
  "kernelspec": {
   "display_name": "Python 3",
   "language": "python",
   "name": "python3"
  },
  "language_info": {
   "codemirror_mode": {
    "name": "ipython",
    "version": 3
   },
   "file_extension": ".py",
   "mimetype": "text/x-python",
   "name": "python",
   "nbconvert_exporter": "python",
   "pygments_lexer": "ipython3",
   "version": "3.13.1"
  }
 },
 "nbformat": 4,
 "nbformat_minor": 5
}
